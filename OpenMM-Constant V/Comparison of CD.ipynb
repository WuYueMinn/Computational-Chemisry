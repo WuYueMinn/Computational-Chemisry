{
 "cells": [
  {
   "cell_type": "code",
   "execution_count": 1,
   "id": "0447f44f-5005-410c-823e-9cb725dd03d3",
   "metadata": {},
   "outputs": [
    {
     "name": "stderr",
     "output_type": "stream",
     "text": [
      "/home/wym/anaconda3/envs/py310/lib/python3.10/site-packages/tqdm/auto.py:21: TqdmWarning: IProgress not found. Please update jupyter and ipywidgets. See https://ipywidgets.readthedocs.io/en/stable/user_install.html\n",
      "  from .autonotebook import tqdm as notebook_tqdm\n"
     ]
    }
   ],
   "source": [
    "import sys\n",
    "sys.path.append('../Anlys_mcs/')\n",
    "from DensDistAnlys import *\n",
    "from DiffCaptAnlys_dat import *"
   ]
  },
  {
   "cell_type": "code",
   "execution_count": null,
   "id": "23d3112b-1281-4f26-b3c1-1f742bb2c6cb",
   "metadata": {},
   "outputs": [],
   "source": [
    "system_names = ['400 $[TMPA^{+}][TFSI^{-}]$', '400 $[TMPA^{+}][BF_{4}^{-}]$']\n",
    "sys_names = ['400[N1113][TFSI]', '400[N1113][BF4]']\n",
    "markers=['D','', '']\n",
    "fmts = ['k-D', 'r-', '']\n",
    "colors = ['k', 'r']\n",
    "ylim_l = 3\n",
    "ylim_u = 8\n",
    "output_dir = '../sim_output_dir/C_D of QA/'\n",
    "filenames = [\n",
    "    '../sim_output_dir/C_D of QA/400[N1113][TFSI] C_D.log',\n",
    "    '../sim_output_dir/C_D of QA/400[N1113][BF4] C_D.log',\n",
    "]\n",
    "filenames_std = [\n",
    "    '../sim_output_dir/C_D of QA/400[N1113][TFSI] C_D_std.log',\n",
    "    '../sim_output_dir/C_D of QA/400[N1113][BF4] C_D_std.log',\n",
    "]\n",
    "\n",
    "plot_dCD_from_file(filenames, system_names, markers, colors, ylim_l, ylim_u)\n",
    "plot_dCD_std_from_file(filenames, system_names, fmts, colors, ylim_l, ylim_u)"
   ]
  }
 ],
 "metadata": {
  "kernelspec": {
   "display_name": "Python 3 (ipykernel)",
   "language": "python",
   "name": "python3"
  },
  "language_info": {
   "codemirror_mode": {
    "name": "ipython",
    "version": 3
   },
   "file_extension": ".py",
   "mimetype": "text/x-python",
   "name": "python",
   "nbconvert_exporter": "python",
   "pygments_lexer": "ipython3",
   "version": "3.10.16"
  }
 },
 "nbformat": 4,
 "nbformat_minor": 5
}

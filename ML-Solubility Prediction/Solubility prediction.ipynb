{
 "cells": [
  {
   "cell_type": "markdown",
   "id": "39bc3926-5e46-41f5-96d0-f84b06ea90db",
   "metadata": {},
   "source": [
    "# Molecular Descriptor"
   ]
  },
  {
   "cell_type": "code",
   "execution_count": 1,
   "id": "27537b11-d13f-46bd-9705-656a2e20178b",
   "metadata": {},
   "outputs": [],
   "source": [
    "import pandas as pd\n",
    "import numpy as np\n",
    "import os\n",
    "import seaborn as sns\n",
    "import matplotlib.pyplot as plt\n",
    "import emoji\n",
    "# %matplotlib inline \n",
    "\n",
    "#importing rdkit\n",
    "from rdkit import Chem\n",
    "from rdkit.Chem import AllChem\n",
    "from rdkit.Chem import Descriptors\n",
    "from rdkit import RDConfig\n",
    "from rdkit.Chem.Draw import IPythonConsole\n",
    "from rdkit.Chem import Draw\n",
    "#from utility import FeatureGenerator\n",
    "from rdkit.Chem import PandasTools as PandasTools\n",
    "from rdkit import DataStructs\n",
    "from rdkit.Chem.Subshape import SubshapeBuilder,SubshapeAligner,SubshapeObjects\n",
    "\n",
    "#importing sklearn \n",
    "from sklearn.model_selection import train_test_split, StratifiedKFold, GridSearchCV\n",
    "from sklearn.metrics import r2_score, mean_squared_error, mean_absolute_error\n",
    "from sklearn.ensemble import RandomForestRegressor\n",
    "from sklearn.neural_network import MLPRegressor\n",
    "from sklearn.svm import SVR\n",
    "import pandas as pd\n",
    "from mordred import Calculator, descriptors\n",
    "import wget\n",
    "import unzip\n",
    "import padelpy"
   ]
  },
  {
   "cell_type": "code",
   "execution_count": null,
   "id": "d522fc08-ba2a-456b-b5d7-6df6a75200d5",
   "metadata": {},
   "outputs": [
    {
     "name": "stdout",
     "output_type": "stream",
     "text": [
      "File 'water_solubility_dataset/new222new.csv' downloaded successfully.\n",
      "File 'water_solubility_dataset/testexperiment2upload2raw.csv' downloaded successfully.\n"
     ]
    }
   ],
   "source": [
    "import os\n",
    "import requests\n",
    "from urllib.parse import urlparse\n",
    "\n",
    "# URLs of the raw CSV files on GitHub\n",
    "urls = [\n",
    "    \"https://raw.githubusercontent.com/arashtayyebi/prediction-of-water-solubility/main/new222new.csv\",\n",
    "    \"https://raw.githubusercontent.com/arashtayyebi/prediction-of-water-solubility/main/testexperiment2upload2raw.csv\",\n",
    "    \"https://raw.githubusercontent.com/arashtayyebi/prediction-of-water-solubility/main/testexperiment2upload3raw.csv\"\n",
    "]\n",
    "\n",
    "# Create a folder to store downloaded files if it doesn't exist\n",
    "folder_name = \"water_solubility_dataset\"\n",
    "os.makedirs(folder_name, exist_ok=True)\n",
    "\n",
    "# Loop through each URL and download the file\n",
    "for url in urls:\n",
    "    # Parse the URL to extract the file name\n",
    "    parsed_url = urlparse(url)\n",
    "    file_name = os.path.join(folder_name, os.path.basename(parsed_url.path))\n",
    "\n",
    "    # Send an HTTP GET request to the URL\n",
    "    response = requests.get(url)\n",
    "\n",
    "    # Check if the request was successful (status code 200)\n",
    "    if response.status_code == 200:\n",
    "        # Save the content of the response (CSV data) to a local file\n",
    "        with open(file_name, \"wb\") as file:\n",
    "            file.write(response.content)\n",
    "        print(f\"File '{file_name}' downloaded successfully.\")\n",
    "    else:\n",
    "        print(f\"Failed to download the file from '{url}'.\")\n",
    "\n"
   ]
  },
  {
   "cell_type": "code",
   "execution_count": 2,
   "id": "1eb1270e-b7c5-4a2f-a7f4-812b0bcfff5b",
   "metadata": {},
   "outputs": [
    {
     "name": "stdout",
     "output_type": "stream",
     "text": [
      "<bound method NDFrame.head of                                                  SMILES  \\\n",
      "0               OCC1OC(CO)(OC2OC(CO)C(O)C(O)C2O)C(O)C1O   \n",
      "1     O[C@H]1[C@H](O[C@H](CO)[C@@H](O)[C@@H]1O)O[C@]...   \n",
      "2     OC[C@@H]1O[C@](CO)(O[C@@H]2O[C@@H](CO)[C@H](O)...   \n",
      "3                CN1C[C@@H]2C[C@@H](C1)C3=CC=CC(=O)N3C2   \n",
      "4                          CN1CC2CC(C1)C1=CC=CC(=O)N1C2   \n",
      "...                                                 ...   \n",
      "8433                                      O=[N+]([O-])C   \n",
      "8434                                                 OC   \n",
      "8435                                            S=C(N)N   \n",
      "8436                                           O=C(NO)N   \n",
      "8437                                            O=C(N)N   \n",
      "\n",
      "      measured log(solubility:mol/L)  \n",
      "0                               0.79  \n",
      "1                               0.79  \n",
      "2                               0.79  \n",
      "3                               0.65  \n",
      "4                               0.65  \n",
      "...                              ...  \n",
      "8433                            0.26  \n",
      "8434                            1.57  \n",
      "8435                            0.32  \n",
      "8436                            1.12  \n",
      "8437                            0.96  \n",
      "\n",
      "[8438 rows x 2 columns]>\n"
     ]
    }
   ],
   "source": [
    "from rdkit.Chem import AllChem\n",
    "from rdkit import Chem\n",
    "import pandas as pd\n",
    "\n",
    "sol = pd.read_csv('water_solubility_dataset/new222new.csv')\n",
    "print(sol.head)\n",
    "XY = sol.set_index('SMILES').T.to_dict('list')\n",
    "# print(XY)"
   ]
  },
  {
   "cell_type": "code",
   "execution_count": 3,
   "id": "c3325734-0307-4e6b-9333-827b98d09747",
   "metadata": {},
   "outputs": [
    {
     "data": {
      "text/plain": [
       "0       0.79\n",
       "1       0.79\n",
       "2       0.79\n",
       "3       0.65\n",
       "4       0.65\n",
       "        ... \n",
       "8433    0.26\n",
       "8434    1.57\n",
       "8435    0.32\n",
       "8436    1.12\n",
       "8437    0.96\n",
       "Name: measured log(solubility:mol/L), Length: 8438, dtype: float64"
      ]
     },
     "execution_count": 3,
     "metadata": {},
     "output_type": "execute_result"
    }
   ],
   "source": [
    "Y = sol.iloc[:,1] # index 1 = log(solubility:mol/L)\n",
    "Y"
   ]
  },
  {
   "cell_type": "code",
   "execution_count": 4,
   "id": "79d01b2e-c025-4209-834b-6d6722c03205",
   "metadata": {},
   "outputs": [
    {
     "name": "stderr",
     "output_type": "stream",
     "text": [
      "100%|███████████████████████████████████████████████████████████████████████████████| 8438/8438 [01:53<00:00, 74.16it/s]\n"
     ]
    }
   ],
   "source": [
    "#descriptor\n",
    "molecules = sol.SMILES.apply(Chem.MolFromSmiles)\n",
    "\n",
    "def All_Mordred_descriptors(data):\n",
    "    calc = Calculator(descriptors, ignore_3D=True)\n",
    "    mols = [Chem.MolFromSmiles(smi) for smi in data]\n",
    "    \n",
    "    # pandas df\n",
    "    df = calc.pandas(mols)\n",
    "    return df\n",
    "\n",
    "mordred_descriptors = All_Mordred_descriptors(sol['SMILES'])"
   ]
  },
  {
   "cell_type": "code",
   "execution_count": 5,
   "id": "ffb019cc-9530-4b0b-81c9-6b5a3f3b8e52",
   "metadata": {},
   "outputs": [
    {
     "data": {
      "text/plain": [
       "(8438, 1613)"
      ]
     },
     "execution_count": 5,
     "metadata": {},
     "output_type": "execute_result"
    }
   ],
   "source": [
    "mordred_descriptors.shape"
   ]
  },
  {
   "cell_type": "code",
   "execution_count": 6,
   "id": "f9a7173f-31b8-4736-a62d-746ea72db042",
   "metadata": {},
   "outputs": [
    {
     "data": {
      "text/plain": [
       "(8438, 809)"
      ]
     },
     "execution_count": 6,
     "metadata": {},
     "output_type": "execute_result"
    }
   ],
   "source": [
    "from sklearn.feature_selection import VarianceThreshold\n",
    "\n",
    "vt = VarianceThreshold()\n",
    "\n",
    "X=mordred_descriptors\n",
    "des_num = X.select_dtypes(include='number')\n",
    "des_num.shape"
   ]
  },
  {
   "cell_type": "code",
   "execution_count": 7,
   "id": "3201b2bc-aa66-47cd-900b-710495d4d9b2",
   "metadata": {},
   "outputs": [
    {
     "data": {
      "text/plain": [
       "(8438, 504)"
      ]
     },
     "execution_count": 7,
     "metadata": {},
     "output_type": "execute_result"
    }
   ],
   "source": [
    "transformed = vt.fit_transform(des_num)\n",
    "\n",
    "_ = vt.fit(des_num)\n",
    "\n",
    "mask = vt.get_support()\n",
    "\n",
    "des_num = des_num.loc[:, mask]\n",
    "\n",
    "vt = VarianceThreshold(threshold=0.1)\n",
    "\n",
    "# Fit\n",
    "_ = vt.fit(des_num)\n",
    "\n",
    "# Get the boolean mask\n",
    "mask = vt.get_support()\n",
    "\n",
    "des_reduced = des_num.loc[:, mask]\n",
    "H=des_reduced\n",
    "#X=H.drop(['FilterItLogS', 'SLogP'], axis=1)\n",
    "X=H\n",
    "X.shape"
   ]
  },
  {
   "cell_type": "code",
   "execution_count": 8,
   "id": "d203c5d8-ebf1-4afe-878f-8f484e6ef751",
   "metadata": {},
   "outputs": [],
   "source": [
    "correlated_features = set()\n",
    "correlation_matrix=X.corr()"
   ]
  },
  {
   "cell_type": "code",
   "execution_count": 9,
   "id": "c3a2574a-8211-4371-b4a1-a67c23100b92",
   "metadata": {},
   "outputs": [
    {
     "name": "stdout",
     "output_type": "stream",
     "text": [
      "328\n",
      "{'CIC3', 'ATSC0se', 'ATS4i', 'MIC1', 'AATS1d', 'SaaCH', 'ATSC0are', 'naRing', 'fragCpx', 'TIC2', 'CIC5', 'AATS1Z', 'AATS0are', 'TIC4', 'Xc-3d', 'ATSC5pe', 'ATS6dv', 'AATS0m', 'ATSC0m', 'ATS2dv', 'MPC3', 'ZMIC5', 'ATS4m', 'ATS1d', 'ATS8v', 'SssCH2', 'nBondsKD', 'TopoPSA(NO)', 'MWC01', 'CIC0', 'MPC10', 'nBondsO', 'ATS5pe', 'VMcGowan', 'Xpc-6dv', 'MWC09', 'ATS4v', 'MW', 'ATSC2pe', 'ATS4pe', 'nBondsM', 'ATS2m', 'SaasN', 'NaaCH', 'Xp-5dv', 'AATSC1dv', 'ATS3d', 'ATSC0dv', 'SddssS', 'AATS0pe', 'ATS7se', 'ATS1are', 'ATS4p', 'Xpc-6d', 'Sp', 'SMR_VSA1', 'WPath', 'ATSC1are', 'MWC08', 'MPC4', 'SZ', 'SsNH2', 'ATS7d', 'piPC7', 'ATS6se', 'AATSC0m', 'ATS1se', 'MIC5', 'SRW10', 'ATSC4pe', 'ATSC7pe', 'ATS8pe', 'SlogP_VSA5', 'ATSC8se', 'AATS1p', 'ATS6are', 'ATSC3pe', 'Xp-6dv', 'apol', 'MWC10', 'ATS5Z', 'AATS0p', 'ATS0i', 'AATSC0Z', 'piPC6', 'IC2', 'ATS7are', 'ATS1v', 'EState_VSA10', 'ATS8i', 'SddsN', 'ATS3dv', 'SsBr', 'ATS1i', 'ATS7Z', 'MIC3', 'n5aHRing', 'TIC5', 'TIC0', 'SlogP_VSA8', 'ATS5d', 'SRW05', 'Xp-3d', 'ATSC6are', 'MPC8', 'MIC4', 'ATS0m', 'nBondsS', 'VSA_EState3', 'Radius', 'Sse', 'ATSC0Z', 'ATS3Z', 'MWC07', 'ATS8dv', 'ATSC2m', 'ATS2v', 'SaaNH', 'ATSC0d', 'ATS2p', 'piPC9', 'ATS0p', 'ATSC0p', 'CIC2', 'MPC9', 'piPC1', 'ATS3pe', 'ZMIC2', 'ATSC8p', 'LabuteASA', 'Xpc-5d', 'ATS5dv', 'TIC3', 'ZMIC3', 'bpol', 'nRing', 'ATSC5m', 'NsBr', 'ZMIC0', 'SaaN', 'ATS8se', 'ATS3v', 'ATSC7are', 'ATS4se', 'VSA_EState5', 'Xp-1dv', 'SMR_VSA3', 'ATS3m', 'SMR_VSA7', 'SRW06', 'MPC2', 'ATS0d', 'ATS5se', 'ATSC4are', 'VSA_EState6', 'SRW04', 'ATS0se', 'n6aRing', 'ATSC7m', 'BertzCT', 'mZagreb2', 'SMR', 'AATSC1v', 'Sm', 'ATS0v', 'AATS0Z', 'ATSC1pe', 'ATSC8m', 'Xp-4d', 'MWC05', 'GGI3', 'TMPC10', 'ATS1Z', 'ATS5are', 'ATSC8are', 'NdO', 'SMR_VSA5', 'IC5', 'ATS2d', 'SssNH', 'TIC1', 'ATSC6pe', 'nBonds', 'ATS2i', 'ATS4Z', 'nBondsA', 'ATSC6m', 'MIC2', 'Xp-4dv', 'MIC0', 'MPC5', 'Xp-2d', 'MWC03', 'AATS1se', 'Xp-2dv', 'ZMIC4', 'AATSC1i', 'ATS0are', 'SMR_VSA2', 'ATSC6p', 'Zagreb2', 'NsCl', 'AATSC1m', 'IC4', 'ATS6p', 'nBondsKS', 'Diameter', 'FCSP3', 'SsCH3', 'MWC02', 'ATS5i', 'AATS1i', 'ATS6v', 'ATS7dv', 'ATS7i', 'n6Ring', 'ATSC3are', 'ATSC3m', 'NsF', 'ATS5p', 'ATS6i', 'ATS7m', 'SssssC', 'ATS2are', 'ATS6Z', 'Spe', 'ATS5v', 'SdsCH', 'ATS6m', 'piPC8', 'ATS1pe', 'MPC7', 'Xch-7dv', 'SlogP_VSA6', 'SRW07', 'Sv', 'AMW', 'ATS0pe', 'Zagreb1', 'ATS7v', 'Xp-7dv', 'ATSC5are', 'ATS3se', 'SRW02', 'ATSC1m', 'AATS1pe', 'EState_VSA9', 'nFHRing', 'ATS7p', 'SRW08', 'TopoPSA', 'ATS0dv', 'nH', 'ATS6pe', 'AATS0v', 'ATS3are', 'Mm', 'ATSC8pe', 'ATSC2p', 'MWC04', 'ATSC0pe', 'nAromBond', 'SRW09', 'SsCl', 'ATS3p', 'ATS4dv', 'C2SP2', 'GGI4', 'TSRW10', 'piPC2', 'ATS3i', 'piPC3', 'TMWC10', 'CIC4', 'GGI1', 'TpiPC10', 'Xp-3dv', 'GGI2', 'n6aHRing', 'piPC5', 'AATS1m', 'ATS5m', 'SsF', 'ATSC7se', 'ZMIC1', 'ATSC2are', 'AATS1are', 'SsOH', 'ATS1dv', 'ATS1p', 'Xp-5d', 'ATSC0v', 'SLogP', 'ATS4are', 'ATS4d', 'AATS1v', 'WPol', 'piPC4', 'MPC6', 'Xpc-5dv', 'Xp-6d', 'IC3', 'Xpc-4d', 'MWC06', 'SsssN', 'ATS6d', 'Xpc-4dv', 'ATS8p', 'ATS8are', 'AATS1dv', 'Si', 'SdO', 'ATSC4m', 'Sare', 'SaaaC', 'AATS0se', 'SssO', 'ATS2se', 'ATS2Z', 'ATS8d', 'ATS1m', 'ATS2pe', 'ATS8m', 'ATS8Z', 'Xp-1d', 'ATS7pe', 'Xp-7d', 'piPC10'}\n"
     ]
    }
   ],
   "source": [
    "for i in range(len(correlation_matrix .columns)):\n",
    "    for j in range(i):\n",
    "        if abs(correlation_matrix.iloc[i, j]) > 0.8:\n",
    "            colname = correlation_matrix.columns[i]\n",
    "            correlated_features.add(colname)\n",
    "\n",
    "print(len(correlated_features))\n",
    "print(correlated_features)"
   ]
  },
  {
   "cell_type": "code",
   "execution_count": 10,
   "id": "7de06af7-ee35-49c2-8181-6981beddadbd",
   "metadata": {},
   "outputs": [
    {
     "name": "stderr",
     "output_type": "stream",
     "text": [
      "/tmp/ipykernel_18222/1003493426.py:1: SettingWithCopyWarning: \n",
      "A value is trying to be set on a copy of a slice from a DataFrame\n",
      "\n",
      "See the caveats in the documentation: https://pandas.pydata.org/pandas-docs/stable/user_guide/indexing.html#returning-a-view-versus-a-copy\n",
      "  X.drop(labels=correlated_features, axis=1, inplace=True)\n"
     ]
    }
   ],
   "source": [
    "X.drop(labels=correlated_features, axis=1, inplace=True)"
   ]
  },
  {
   "cell_type": "code",
   "execution_count": 11,
   "id": "5cd641f2-23e4-406c-9e13-ed615b7e060d",
   "metadata": {},
   "outputs": [
    {
     "data": {
      "text/plain": [
       "(8438, 176)"
      ]
     },
     "execution_count": 11,
     "metadata": {},
     "output_type": "execute_result"
    }
   ],
   "source": [
    "X.shape"
   ]
  },
  {
   "cell_type": "code",
   "execution_count": 12,
   "id": "3de5deab-e671-4bd5-9c24-4058b7abffe3",
   "metadata": {},
   "outputs": [
    {
     "data": {
      "text/html": [
       "<div>\n",
       "<style scoped>\n",
       "    .dataframe tbody tr th:only-of-type {\n",
       "        vertical-align: middle;\n",
       "    }\n",
       "\n",
       "    .dataframe tbody tr th {\n",
       "        vertical-align: top;\n",
       "    }\n",
       "\n",
       "    .dataframe thead th {\n",
       "        text-align: right;\n",
       "    }\n",
       "</style>\n",
       "<table border=\"1\" class=\"dataframe\">\n",
       "  <thead>\n",
       "    <tr style=\"text-align: right;\">\n",
       "      <th></th>\n",
       "      <th>nAcid</th>\n",
       "      <th>nBase</th>\n",
       "      <th>nAromAtom</th>\n",
       "      <th>nAtom</th>\n",
       "      <th>nHeavyAtom</th>\n",
       "      <th>nBridgehead</th>\n",
       "      <th>nHetero</th>\n",
       "      <th>nC</th>\n",
       "      <th>nN</th>\n",
       "      <th>nO</th>\n",
       "      <th>...</th>\n",
       "      <th>n5HRing</th>\n",
       "      <th>n6HRing</th>\n",
       "      <th>n5aRing</th>\n",
       "      <th>naHRing</th>\n",
       "      <th>nARing</th>\n",
       "      <th>n5ARing</th>\n",
       "      <th>n6ARing</th>\n",
       "      <th>nAHRing</th>\n",
       "      <th>nFRing</th>\n",
       "      <th>nRot</th>\n",
       "    </tr>\n",
       "  </thead>\n",
       "  <tbody>\n",
       "    <tr>\n",
       "      <th>0</th>\n",
       "      <td>0</td>\n",
       "      <td>0</td>\n",
       "      <td>0</td>\n",
       "      <td>45</td>\n",
       "      <td>23</td>\n",
       "      <td>0</td>\n",
       "      <td>11</td>\n",
       "      <td>12</td>\n",
       "      <td>0</td>\n",
       "      <td>11</td>\n",
       "      <td>...</td>\n",
       "      <td>1</td>\n",
       "      <td>1</td>\n",
       "      <td>0</td>\n",
       "      <td>0</td>\n",
       "      <td>2</td>\n",
       "      <td>1</td>\n",
       "      <td>1</td>\n",
       "      <td>2</td>\n",
       "      <td>0</td>\n",
       "      <td>5</td>\n",
       "    </tr>\n",
       "    <tr>\n",
       "      <th>1</th>\n",
       "      <td>0</td>\n",
       "      <td>0</td>\n",
       "      <td>0</td>\n",
       "      <td>45</td>\n",
       "      <td>23</td>\n",
       "      <td>0</td>\n",
       "      <td>11</td>\n",
       "      <td>12</td>\n",
       "      <td>0</td>\n",
       "      <td>11</td>\n",
       "      <td>...</td>\n",
       "      <td>1</td>\n",
       "      <td>1</td>\n",
       "      <td>0</td>\n",
       "      <td>0</td>\n",
       "      <td>2</td>\n",
       "      <td>1</td>\n",
       "      <td>1</td>\n",
       "      <td>2</td>\n",
       "      <td>0</td>\n",
       "      <td>5</td>\n",
       "    </tr>\n",
       "    <tr>\n",
       "      <th>2</th>\n",
       "      <td>0</td>\n",
       "      <td>0</td>\n",
       "      <td>0</td>\n",
       "      <td>45</td>\n",
       "      <td>23</td>\n",
       "      <td>0</td>\n",
       "      <td>11</td>\n",
       "      <td>12</td>\n",
       "      <td>0</td>\n",
       "      <td>11</td>\n",
       "      <td>...</td>\n",
       "      <td>1</td>\n",
       "      <td>1</td>\n",
       "      <td>0</td>\n",
       "      <td>0</td>\n",
       "      <td>2</td>\n",
       "      <td>1</td>\n",
       "      <td>1</td>\n",
       "      <td>2</td>\n",
       "      <td>0</td>\n",
       "      <td>5</td>\n",
       "    </tr>\n",
       "    <tr>\n",
       "      <th>3</th>\n",
       "      <td>0</td>\n",
       "      <td>1</td>\n",
       "      <td>6</td>\n",
       "      <td>31</td>\n",
       "      <td>15</td>\n",
       "      <td>2</td>\n",
       "      <td>3</td>\n",
       "      <td>12</td>\n",
       "      <td>2</td>\n",
       "      <td>1</td>\n",
       "      <td>...</td>\n",
       "      <td>0</td>\n",
       "      <td>3</td>\n",
       "      <td>0</td>\n",
       "      <td>1</td>\n",
       "      <td>2</td>\n",
       "      <td>0</td>\n",
       "      <td>2</td>\n",
       "      <td>2</td>\n",
       "      <td>1</td>\n",
       "      <td>0</td>\n",
       "    </tr>\n",
       "    <tr>\n",
       "      <th>4</th>\n",
       "      <td>0</td>\n",
       "      <td>1</td>\n",
       "      <td>6</td>\n",
       "      <td>31</td>\n",
       "      <td>15</td>\n",
       "      <td>2</td>\n",
       "      <td>3</td>\n",
       "      <td>12</td>\n",
       "      <td>2</td>\n",
       "      <td>1</td>\n",
       "      <td>...</td>\n",
       "      <td>0</td>\n",
       "      <td>3</td>\n",
       "      <td>0</td>\n",
       "      <td>1</td>\n",
       "      <td>2</td>\n",
       "      <td>0</td>\n",
       "      <td>2</td>\n",
       "      <td>2</td>\n",
       "      <td>1</td>\n",
       "      <td>0</td>\n",
       "    </tr>\n",
       "  </tbody>\n",
       "</table>\n",
       "<p>5 rows × 176 columns</p>\n",
       "</div>"
      ],
      "text/plain": [
       "   nAcid  nBase  nAromAtom  nAtom  nHeavyAtom  nBridgehead  nHetero  nC  nN  \\\n",
       "0      0      0          0     45          23            0       11  12   0   \n",
       "1      0      0          0     45          23            0       11  12   0   \n",
       "2      0      0          0     45          23            0       11  12   0   \n",
       "3      0      1          6     31          15            2        3  12   2   \n",
       "4      0      1          6     31          15            2        3  12   2   \n",
       "\n",
       "   nO  ...  n5HRing  n6HRing  n5aRing  naHRing  nARing  n5ARing  n6ARing  \\\n",
       "0  11  ...        1        1        0        0       2        1        1   \n",
       "1  11  ...        1        1        0        0       2        1        1   \n",
       "2  11  ...        1        1        0        0       2        1        1   \n",
       "3   1  ...        0        3        0        1       2        0        2   \n",
       "4   1  ...        0        3        0        1       2        0        2   \n",
       "\n",
       "   nAHRing  nFRing  nRot  \n",
       "0        2       0     5  \n",
       "1        2       0     5  \n",
       "2        2       0     5  \n",
       "3        2       1     0  \n",
       "4        2       1     0  \n",
       "\n",
       "[5 rows x 176 columns]"
      ]
     },
     "execution_count": 12,
     "metadata": {},
     "output_type": "execute_result"
    }
   ],
   "source": [
    "X.head()"
   ]
  },
  {
   "cell_type": "code",
   "execution_count": 13,
   "id": "db6bf96d-485c-416e-9a6b-910c24510dda",
   "metadata": {},
   "outputs": [
    {
     "data": {
      "text/plain": [
       "{'AATS0d',\n",
       " 'AATS0dv',\n",
       " 'AATS0i',\n",
       " 'AATSC0dv',\n",
       " 'AATSC0i',\n",
       " 'AATSC0v',\n",
       " 'AATSC1Z',\n",
       " 'ATS0Z',\n",
       " 'ATSC0i',\n",
       " 'ATSC1Z',\n",
       " 'ATSC1d',\n",
       " 'ATSC1dv',\n",
       " 'ATSC1i',\n",
       " 'ATSC1p',\n",
       " 'ATSC1se',\n",
       " 'ATSC1v',\n",
       " 'ATSC2Z',\n",
       " 'ATSC2d',\n",
       " 'ATSC2dv',\n",
       " 'ATSC2i',\n",
       " 'ATSC2se',\n",
       " 'ATSC2v',\n",
       " 'ATSC3Z',\n",
       " 'ATSC3d',\n",
       " 'ATSC3dv',\n",
       " 'ATSC3i',\n",
       " 'ATSC3p',\n",
       " 'ATSC3se',\n",
       " 'ATSC3v',\n",
       " 'ATSC4Z',\n",
       " 'ATSC4d',\n",
       " 'ATSC4dv',\n",
       " 'ATSC4i',\n",
       " 'ATSC4p',\n",
       " 'ATSC4se',\n",
       " 'ATSC4v',\n",
       " 'ATSC5Z',\n",
       " 'ATSC5d',\n",
       " 'ATSC5dv',\n",
       " 'ATSC5i',\n",
       " 'ATSC5p',\n",
       " 'ATSC5se',\n",
       " 'ATSC5v',\n",
       " 'ATSC6Z',\n",
       " 'ATSC6d',\n",
       " 'ATSC6dv',\n",
       " 'ATSC6i',\n",
       " 'ATSC6se',\n",
       " 'ATSC6v',\n",
       " 'ATSC7Z',\n",
       " 'ATSC7d',\n",
       " 'ATSC7dv',\n",
       " 'ATSC7i',\n",
       " 'ATSC7p',\n",
       " 'ATSC7v',\n",
       " 'ATSC8Z',\n",
       " 'ATSC8d',\n",
       " 'ATSC8dv',\n",
       " 'ATSC8i',\n",
       " 'ATSC8v',\n",
       " 'BalabanJ',\n",
       " 'C1SP2',\n",
       " 'C1SP3',\n",
       " 'C2SP3',\n",
       " 'C3SP2',\n",
       " 'C3SP3',\n",
       " 'CIC1',\n",
       " 'ECIndex',\n",
       " 'EState_VSA1',\n",
       " 'EState_VSA2',\n",
       " 'EState_VSA3',\n",
       " 'EState_VSA4',\n",
       " 'EState_VSA5',\n",
       " 'EState_VSA6',\n",
       " 'EState_VSA7',\n",
       " 'EState_VSA8',\n",
       " 'FilterItLogS',\n",
       " 'GATS1i',\n",
       " 'GATS1p',\n",
       " 'IC1',\n",
       " 'NaaN',\n",
       " 'NaaNH',\n",
       " 'NaaaC',\n",
       " 'NaasC',\n",
       " 'NaasN',\n",
       " 'NddsN',\n",
       " 'NddssS',\n",
       " 'NdsCH',\n",
       " 'NdssC',\n",
       " 'NsCH3',\n",
       " 'NsNH2',\n",
       " 'NsOH',\n",
       " 'NssCH2',\n",
       " 'NssNH',\n",
       " 'NssO',\n",
       " 'NsssCH',\n",
       " 'NsssN',\n",
       " 'NssssC',\n",
       " 'PEOE_VSA1',\n",
       " 'PEOE_VSA10',\n",
       " 'PEOE_VSA11',\n",
       " 'PEOE_VSA12',\n",
       " 'PEOE_VSA13',\n",
       " 'PEOE_VSA2',\n",
       " 'PEOE_VSA3',\n",
       " 'PEOE_VSA4',\n",
       " 'PEOE_VSA5',\n",
       " 'PEOE_VSA6',\n",
       " 'PEOE_VSA7',\n",
       " 'PEOE_VSA8',\n",
       " 'PEOE_VSA9',\n",
       " 'SMR_VSA4',\n",
       " 'SMR_VSA6',\n",
       " 'SMR_VSA9',\n",
       " 'SaaO',\n",
       " 'SaasC',\n",
       " 'SdCH2',\n",
       " 'SdNH',\n",
       " 'SdS',\n",
       " 'SdsN',\n",
       " 'SdssC',\n",
       " 'SdsssP',\n",
       " 'SlogP_VSA1',\n",
       " 'SlogP_VSA10',\n",
       " 'SlogP_VSA11',\n",
       " 'SlogP_VSA2',\n",
       " 'SlogP_VSA3',\n",
       " 'SlogP_VSA4',\n",
       " 'SlogP_VSA7',\n",
       " 'SsI',\n",
       " 'SsSH',\n",
       " 'SssS',\n",
       " 'SsssCH',\n",
       " 'StCH',\n",
       " 'StN',\n",
       " 'StsC',\n",
       " 'VSA_EState1',\n",
       " 'VSA_EState2',\n",
       " 'VSA_EState4',\n",
       " 'VSA_EState7',\n",
       " 'VSA_EState8',\n",
       " 'VSA_EState9',\n",
       " 'Xc-3dv',\n",
       " 'Xc-5d',\n",
       " 'Xc-5dv',\n",
       " 'Xch-7d',\n",
       " 'n5ARing',\n",
       " 'n5HRing',\n",
       " 'n5Ring',\n",
       " 'n5aRing',\n",
       " 'n6ARing',\n",
       " 'n6HRing',\n",
       " 'nAHRing',\n",
       " 'nARing',\n",
       " 'nAcid',\n",
       " 'nAromAtom',\n",
       " 'nAtom',\n",
       " 'nBase',\n",
       " 'nBondsD',\n",
       " 'nBr',\n",
       " 'nBridgehead',\n",
       " 'nC',\n",
       " 'nCl',\n",
       " 'nF',\n",
       " 'nFRing',\n",
       " 'nHBAcc',\n",
       " 'nHBDon',\n",
       " 'nHRing',\n",
       " 'nHeavyAtom',\n",
       " 'nHetero',\n",
       " 'nN',\n",
       " 'nO',\n",
       " 'nRot',\n",
       " 'nS',\n",
       " 'nX',\n",
       " 'naHRing'}"
      ]
     },
     "execution_count": 13,
     "metadata": {},
     "output_type": "execute_result"
    }
   ],
   "source": [
    "gf=set()\n",
    "i=0\n",
    "for i in range(len(X.columns)):\n",
    "   \n",
    "    colname = X.columns[i]\n",
    "    gf.add(colname)\n",
    "gf"
   ]
  },
  {
   "cell_type": "code",
   "execution_count": 14,
   "id": "c0df4cc4-9cad-473c-b888-a69a8b3d36cf",
   "metadata": {},
   "outputs": [],
   "source": [
    "#data split\n",
    "from sklearn.model_selection import train_test_split\n",
    "X_train, X_test, Y_train, Y_test = train_test_split(X, Y, test_size=0.2,random_state=991)\n",
    "#test size is 20% and traing size is 80%\n",
    "#linear regression\n",
    "from sklearn import linear_model\n",
    "from sklearn.linear_model import LinearRegression\n",
    "from sklearn.metrics import mean_squared_error, r2_score"
   ]
  },
  {
   "cell_type": "markdown",
   "id": "f6015f29-fb70-4d07-8f83-7268fefa0959",
   "metadata": {},
   "source": [
    "## LinearRegression"
   ]
  },
  {
   "cell_type": "code",
   "execution_count": 15,
   "id": "7fe8c212-080b-400f-b214-d9acb8c72949",
   "metadata": {},
   "outputs": [
    {
     "name": "stdout",
     "output_type": "stream",
     "text": [
      "CPU times: user 309 ms, sys: 1.86 ms, total: 311 ms\n",
      "Wall time: 55.7 ms\n"
     ]
    },
    {
     "data": {
      "text/html": [
       "<style>#sk-container-id-1 {color: black;}#sk-container-id-1 pre{padding: 0;}#sk-container-id-1 div.sk-toggleable {background-color: white;}#sk-container-id-1 label.sk-toggleable__label {cursor: pointer;display: block;width: 100%;margin-bottom: 0;padding: 0.3em;box-sizing: border-box;text-align: center;}#sk-container-id-1 label.sk-toggleable__label-arrow:before {content: \"▸\";float: left;margin-right: 0.25em;color: #696969;}#sk-container-id-1 label.sk-toggleable__label-arrow:hover:before {color: black;}#sk-container-id-1 div.sk-estimator:hover label.sk-toggleable__label-arrow:before {color: black;}#sk-container-id-1 div.sk-toggleable__content {max-height: 0;max-width: 0;overflow: hidden;text-align: left;background-color: #f0f8ff;}#sk-container-id-1 div.sk-toggleable__content pre {margin: 0.2em;color: black;border-radius: 0.25em;background-color: #f0f8ff;}#sk-container-id-1 input.sk-toggleable__control:checked~div.sk-toggleable__content {max-height: 200px;max-width: 100%;overflow: auto;}#sk-container-id-1 input.sk-toggleable__control:checked~label.sk-toggleable__label-arrow:before {content: \"▾\";}#sk-container-id-1 div.sk-estimator input.sk-toggleable__control:checked~label.sk-toggleable__label {background-color: #d4ebff;}#sk-container-id-1 div.sk-label input.sk-toggleable__control:checked~label.sk-toggleable__label {background-color: #d4ebff;}#sk-container-id-1 input.sk-hidden--visually {border: 0;clip: rect(1px 1px 1px 1px);clip: rect(1px, 1px, 1px, 1px);height: 1px;margin: -1px;overflow: hidden;padding: 0;position: absolute;width: 1px;}#sk-container-id-1 div.sk-estimator {font-family: monospace;background-color: #f0f8ff;border: 1px dotted black;border-radius: 0.25em;box-sizing: border-box;margin-bottom: 0.5em;}#sk-container-id-1 div.sk-estimator:hover {background-color: #d4ebff;}#sk-container-id-1 div.sk-parallel-item::after {content: \"\";width: 100%;border-bottom: 1px solid gray;flex-grow: 1;}#sk-container-id-1 div.sk-label:hover label.sk-toggleable__label {background-color: #d4ebff;}#sk-container-id-1 div.sk-serial::before {content: \"\";position: absolute;border-left: 1px solid gray;box-sizing: border-box;top: 0;bottom: 0;left: 50%;z-index: 0;}#sk-container-id-1 div.sk-serial {display: flex;flex-direction: column;align-items: center;background-color: white;padding-right: 0.2em;padding-left: 0.2em;position: relative;}#sk-container-id-1 div.sk-item {position: relative;z-index: 1;}#sk-container-id-1 div.sk-parallel {display: flex;align-items: stretch;justify-content: center;background-color: white;position: relative;}#sk-container-id-1 div.sk-item::before, #sk-container-id-1 div.sk-parallel-item::before {content: \"\";position: absolute;border-left: 1px solid gray;box-sizing: border-box;top: 0;bottom: 0;left: 50%;z-index: -1;}#sk-container-id-1 div.sk-parallel-item {display: flex;flex-direction: column;z-index: 1;position: relative;background-color: white;}#sk-container-id-1 div.sk-parallel-item:first-child::after {align-self: flex-end;width: 50%;}#sk-container-id-1 div.sk-parallel-item:last-child::after {align-self: flex-start;width: 50%;}#sk-container-id-1 div.sk-parallel-item:only-child::after {width: 0;}#sk-container-id-1 div.sk-dashed-wrapped {border: 1px dashed gray;margin: 0 0.4em 0.5em 0.4em;box-sizing: border-box;padding-bottom: 0.4em;background-color: white;}#sk-container-id-1 div.sk-label label {font-family: monospace;font-weight: bold;display: inline-block;line-height: 1.2em;}#sk-container-id-1 div.sk-label-container {text-align: center;}#sk-container-id-1 div.sk-container {/* jupyter's `normalize.less` sets `[hidden] { display: none; }` but bootstrap.min.css set `[hidden] { display: none !important; }` so we also need the `!important` here to be able to override the default hidden behavior on the sphinx rendered scikit-learn.org. See: https://github.com/scikit-learn/scikit-learn/issues/21755 */display: inline-block !important;position: relative;}#sk-container-id-1 div.sk-text-repr-fallback {display: none;}</style><div id=\"sk-container-id-1\" class=\"sk-top-container\"><div class=\"sk-text-repr-fallback\"><pre>LinearRegression()</pre><b>In a Jupyter environment, please rerun this cell to show the HTML representation or trust the notebook. <br />On GitHub, the HTML representation is unable to render, please try loading this page with nbviewer.org.</b></div><div class=\"sk-container\" hidden><div class=\"sk-item\"><div class=\"sk-estimator sk-toggleable\"><input class=\"sk-toggleable__control sk-hidden--visually\" id=\"sk-estimator-id-1\" type=\"checkbox\" checked><label for=\"sk-estimator-id-1\" class=\"sk-toggleable__label sk-toggleable__label-arrow\">LinearRegression</label><div class=\"sk-toggleable__content\"><pre>LinearRegression()</pre></div></div></div></div></div>"
      ],
      "text/plain": [
       "LinearRegression()"
      ]
     },
     "execution_count": 15,
     "metadata": {},
     "output_type": "execute_result"
    }
   ],
   "source": [
    "%%time\n",
    "\n",
    "reg = LinearRegression()\n",
    "reg.fit(X, Y)"
   ]
  },
  {
   "cell_type": "code",
   "execution_count": 16,
   "id": "cae1ed40-50c3-4d77-9417-0ba79ef1ebea",
   "metadata": {},
   "outputs": [
    {
     "name": "stdout",
     "output_type": "stream",
     "text": [
      "Mean squared error (MSE): 0.82\n",
      "Coefficient of determination (R^2): 0.80\n"
     ]
    }
   ],
   "source": [
    "#predicts the X_train\n",
    "Y_pred_train = reg.predict(X_train)\n",
    "#print('Coefficients:', model.coef_)\n",
    "#print('Intercept:', model.intercept_)\n",
    "print('Mean squared error (MSE): %.2f'\n",
    "      % mean_squared_error(Y_train, Y_pred_train,squared=False))\n",
    "print('Coefficient of determination (R^2): %.2f'\n",
    "      % r2_score(Y_train, Y_pred_train))"
   ]
  },
  {
   "cell_type": "code",
   "execution_count": 17,
   "id": "1f7ea6ca-d4e0-4aa1-a9d1-c402870ff654",
   "metadata": {},
   "outputs": [
    {
     "name": "stdout",
     "output_type": "stream",
     "text": [
      "Mean squared error (MSE): 0.80\n",
      "Coefficient of determination (R^2): 0.82\n"
     ]
    }
   ],
   "source": [
    "#predicts the X_test\n",
    "Y_pred_test = reg.predict(X_test)\n",
    "#print('Coefficients:', model.coef_)44444444444\n",
    "#print('Intercept:', model.intercept_)\n",
    "print('Mean squared error (MSE): %.2f'\n",
    "      % mean_squared_error(Y_test, Y_pred_test,squared=False))\n",
    "print('Coefficient of determination (R^2): %.2f'\n",
    "      % r2_score(Y_test, Y_pred_test))"
   ]
  },
  {
   "cell_type": "code",
   "execution_count": 18,
   "id": "b080e304-f4f2-44c6-be4b-2e8f3864d13d",
   "metadata": {},
   "outputs": [
    {
     "name": "stdout",
     "output_type": "stream",
     "text": [
      "0.6100716809611205 0.6186673455132468\n"
     ]
    }
   ],
   "source": [
    "from sklearn.metrics import mean_absolute_error\n",
    "mae_test = mean_absolute_error(Y_test, Y_pred_test)\n",
    "mae_train = mean_absolute_error(Y_train, Y_pred_train)\n",
    "print(mae_test, mae_train)\n"
   ]
  },
  {
   "cell_type": "code",
   "execution_count": 19,
   "id": "a0fb168b-db7b-4290-a974-4ec99c26bae1",
   "metadata": {},
   "outputs": [
    {
     "data": {
      "text/plain": [
       "0.823467058133871"
      ]
     },
     "execution_count": 19,
     "metadata": {},
     "output_type": "execute_result"
    }
   ],
   "source": [
    "residuals= Y_train - Y_pred_train\n",
    "\n",
    "mse=np.mean(residuals**2)\n",
    "RMSE = np.sqrt(mse)\n",
    "RMSE"
   ]
  },
  {
   "cell_type": "code",
   "execution_count": 20,
   "id": "e3f2b8fe-6b78-4244-90e1-a598982aa870",
   "metadata": {},
   "outputs": [
    {
     "name": "stdout",
     "output_type": "stream",
     "text": [
      "176\n"
     ]
    },
    {
     "data": {
      "text/plain": [
       "0.8125987690714963"
      ]
     },
     "execution_count": 20,
     "metadata": {},
     "output_type": "execute_result"
    }
   ],
   "source": [
    "n=len(Y_train)\n",
    "p=X.shape[1]\n",
    "print(p)\n",
    "SEE=np.sqrt(mse*(n-p-1)/n)\n",
    "SEE"
   ]
  },
  {
   "cell_type": "code",
   "execution_count": 21,
   "id": "33e02696-63ad-4897-8894-e6e992f7551c",
   "metadata": {},
   "outputs": [
    {
     "data": {
      "text/plain": [
       "0.8126589593437223"
      ]
     },
     "execution_count": 21,
     "metadata": {},
     "output_type": "execute_result"
    }
   ],
   "source": [
    "SEP = SEE * np.sqrt(1 + 1/n)\n",
    "SEP"
   ]
  },
  {
   "cell_type": "code",
   "execution_count": 22,
   "id": "b7b11d64-0cf0-404a-b1ee-79725bbc3560",
   "metadata": {},
   "outputs": [
    {
     "name": "stdout",
     "output_type": "stream",
     "text": [
      "Standard error of prediction on test set: 0.80\n",
      "Standard error of estimate on training set: 0.80\n"
     ]
    }
   ],
   "source": [
    "# Calculate the residuals\n",
    "residuals_test = Y_test - Y_pred_test\n",
    "\n",
    "# Calculate the mean of the residuals for the test set\n",
    "mean_residuals_test = np.mean(residuals_test)\n",
    "\n",
    "# Calculate the standard deviation of the residuals for the test set\n",
    "std_residuals_test = np.std(residuals_test, ddof=1)\n",
    "\n",
    "# Calculate the standard error of prediction (SEP) for the test set\n",
    "SEP = std_residuals_test * np.sqrt(1 + 1/len(X_test))\n",
    "\n",
    "SEE=SEP*(1/(np.sqrt(1 + 1/(len(X_test)))))\n",
    "SEE\n",
    "# Calculate the standard error of estimate (SEE) for the training set\n",
    "print(\"Standard error of prediction on test set: {:.2f}\".format(SEP))\n",
    "print(\"Standard error of estimate on training set: {:.2f}\".format(SEE))"
   ]
  },
  {
   "cell_type": "code",
   "execution_count": 23,
   "id": "c4419db0-3025-404f-853b-c1fdfc7de0bd",
   "metadata": {},
   "outputs": [],
   "source": [
    "# import shap\n",
    "# from sklearn.preprocessing import StandardScaler\n",
    "# import os\n",
    "# import sys\n",
    "# #import Explanation"
   ]
  },
  {
   "cell_type": "code",
   "execution_count": 24,
   "id": "b453dc3e-6430-4763-85f5-cd33c6ff79c2",
   "metadata": {},
   "outputs": [],
   "source": [
    "# %%time\n",
    "\n",
    "# explainer = shap.Explainer(reg)\n",
    "# shap_values = explainer(X_test)"
   ]
  },
  {
   "cell_type": "markdown",
   "id": "29866c8c-cf7d-4253-9304-1e85341c46c2",
   "metadata": {},
   "source": [
    "## Random Forest Regressor"
   ]
  },
  {
   "cell_type": "code",
   "execution_count": 25,
   "id": "489549cb-1aba-4273-9f66-381758cfea07",
   "metadata": {},
   "outputs": [
    {
     "name": "stdout",
     "output_type": "stream",
     "text": [
      "CPU times: user 47.1 s, sys: 87.8 ms, total: 47.2 s\n",
      "Wall time: 46.3 s\n"
     ]
    },
    {
     "data": {
      "text/html": [
       "<style>#sk-container-id-2 {color: black;}#sk-container-id-2 pre{padding: 0;}#sk-container-id-2 div.sk-toggleable {background-color: white;}#sk-container-id-2 label.sk-toggleable__label {cursor: pointer;display: block;width: 100%;margin-bottom: 0;padding: 0.3em;box-sizing: border-box;text-align: center;}#sk-container-id-2 label.sk-toggleable__label-arrow:before {content: \"▸\";float: left;margin-right: 0.25em;color: #696969;}#sk-container-id-2 label.sk-toggleable__label-arrow:hover:before {color: black;}#sk-container-id-2 div.sk-estimator:hover label.sk-toggleable__label-arrow:before {color: black;}#sk-container-id-2 div.sk-toggleable__content {max-height: 0;max-width: 0;overflow: hidden;text-align: left;background-color: #f0f8ff;}#sk-container-id-2 div.sk-toggleable__content pre {margin: 0.2em;color: black;border-radius: 0.25em;background-color: #f0f8ff;}#sk-container-id-2 input.sk-toggleable__control:checked~div.sk-toggleable__content {max-height: 200px;max-width: 100%;overflow: auto;}#sk-container-id-2 input.sk-toggleable__control:checked~label.sk-toggleable__label-arrow:before {content: \"▾\";}#sk-container-id-2 div.sk-estimator input.sk-toggleable__control:checked~label.sk-toggleable__label {background-color: #d4ebff;}#sk-container-id-2 div.sk-label input.sk-toggleable__control:checked~label.sk-toggleable__label {background-color: #d4ebff;}#sk-container-id-2 input.sk-hidden--visually {border: 0;clip: rect(1px 1px 1px 1px);clip: rect(1px, 1px, 1px, 1px);height: 1px;margin: -1px;overflow: hidden;padding: 0;position: absolute;width: 1px;}#sk-container-id-2 div.sk-estimator {font-family: monospace;background-color: #f0f8ff;border: 1px dotted black;border-radius: 0.25em;box-sizing: border-box;margin-bottom: 0.5em;}#sk-container-id-2 div.sk-estimator:hover {background-color: #d4ebff;}#sk-container-id-2 div.sk-parallel-item::after {content: \"\";width: 100%;border-bottom: 1px solid gray;flex-grow: 1;}#sk-container-id-2 div.sk-label:hover label.sk-toggleable__label {background-color: #d4ebff;}#sk-container-id-2 div.sk-serial::before {content: \"\";position: absolute;border-left: 1px solid gray;box-sizing: border-box;top: 0;bottom: 0;left: 50%;z-index: 0;}#sk-container-id-2 div.sk-serial {display: flex;flex-direction: column;align-items: center;background-color: white;padding-right: 0.2em;padding-left: 0.2em;position: relative;}#sk-container-id-2 div.sk-item {position: relative;z-index: 1;}#sk-container-id-2 div.sk-parallel {display: flex;align-items: stretch;justify-content: center;background-color: white;position: relative;}#sk-container-id-2 div.sk-item::before, #sk-container-id-2 div.sk-parallel-item::before {content: \"\";position: absolute;border-left: 1px solid gray;box-sizing: border-box;top: 0;bottom: 0;left: 50%;z-index: -1;}#sk-container-id-2 div.sk-parallel-item {display: flex;flex-direction: column;z-index: 1;position: relative;background-color: white;}#sk-container-id-2 div.sk-parallel-item:first-child::after {align-self: flex-end;width: 50%;}#sk-container-id-2 div.sk-parallel-item:last-child::after {align-self: flex-start;width: 50%;}#sk-container-id-2 div.sk-parallel-item:only-child::after {width: 0;}#sk-container-id-2 div.sk-dashed-wrapped {border: 1px dashed gray;margin: 0 0.4em 0.5em 0.4em;box-sizing: border-box;padding-bottom: 0.4em;background-color: white;}#sk-container-id-2 div.sk-label label {font-family: monospace;font-weight: bold;display: inline-block;line-height: 1.2em;}#sk-container-id-2 div.sk-label-container {text-align: center;}#sk-container-id-2 div.sk-container {/* jupyter's `normalize.less` sets `[hidden] { display: none; }` but bootstrap.min.css set `[hidden] { display: none !important; }` so we also need the `!important` here to be able to override the default hidden behavior on the sphinx rendered scikit-learn.org. See: https://github.com/scikit-learn/scikit-learn/issues/21755 */display: inline-block !important;position: relative;}#sk-container-id-2 div.sk-text-repr-fallback {display: none;}</style><div id=\"sk-container-id-2\" class=\"sk-top-container\"><div class=\"sk-text-repr-fallback\"><pre>RandomForestRegressor(random_state=42)</pre><b>In a Jupyter environment, please rerun this cell to show the HTML representation or trust the notebook. <br />On GitHub, the HTML representation is unable to render, please try loading this page with nbviewer.org.</b></div><div class=\"sk-container\" hidden><div class=\"sk-item\"><div class=\"sk-estimator sk-toggleable\"><input class=\"sk-toggleable__control sk-hidden--visually\" id=\"sk-estimator-id-2\" type=\"checkbox\" checked><label for=\"sk-estimator-id-2\" class=\"sk-toggleable__label sk-toggleable__label-arrow\">RandomForestRegressor</label><div class=\"sk-toggleable__content\"><pre>RandomForestRegressor(random_state=42)</pre></div></div></div></div></div>"
      ],
      "text/plain": [
       "RandomForestRegressor(random_state=42)"
      ]
     },
     "execution_count": 25,
     "metadata": {},
     "output_type": "execute_result"
    }
   ],
   "source": [
    "%%time\n",
    "\n",
    "model = RandomForestRegressor(n_estimators=100, random_state=42)\n",
    "model.fit(X_train, Y_train)"
   ]
  },
  {
   "cell_type": "code",
   "execution_count": 26,
   "id": "a5142555-17e6-43d4-8cfb-528b77d813d0",
   "metadata": {},
   "outputs": [
    {
     "name": "stdout",
     "output_type": "stream",
     "text": [
      "Mean squared error (RMSE): 0.26\n",
      "Coefficient of determination (R^2): 0.98\n"
     ]
    }
   ],
   "source": [
    "#predicts the X_train\n",
    "Y_pred_train = model.predict(X_train)\n",
    "#print('Coefficients:', model.coef_)\n",
    "#print('Intercept:', model.intercept_)\n",
    "print('Mean squared error (RMSE): %.2f'\n",
    "      % mean_squared_error(Y_train, Y_pred_train,squared=False))\n",
    "print('Coefficient of determination (R^2): %.2f'\n",
    "      % r2_score(Y_train, Y_pred_train))"
   ]
  },
  {
   "cell_type": "code",
   "execution_count": 27,
   "id": "a76a5420-bb34-4161-ae8d-5bc2c25818e4",
   "metadata": {},
   "outputs": [
    {
     "name": "stdout",
     "output_type": "stream",
     "text": [
      "Mean squared error (MSE): 0.66\n",
      "Coefficient of determination (R^2): 0.88\n"
     ]
    }
   ],
   "source": [
    "Y_pred_test = model.predict(X_test)\n",
    "print('Mean squared error (MSE): %.2f'\n",
    "      % mean_squared_error(Y_test, Y_pred_test,squared=False))\n",
    "print('Coefficient of determination (R^2): %.2f'\n",
    "      % r2_score(Y_test, Y_pred_test))"
   ]
  },
  {
   "cell_type": "code",
   "execution_count": 28,
   "id": "af9958c7-8a8f-4c29-ade5-bdd351fc75a7",
   "metadata": {},
   "outputs": [
    {
     "name": "stdout",
     "output_type": "stream",
     "text": [
      "0.43132808579348064 0.16959978811293822\n"
     ]
    }
   ],
   "source": [
    "mae_test = mean_absolute_error(Y_test, Y_pred_test)\n",
    "mae_train = mean_absolute_error(Y_train, Y_pred_train)\n",
    "print(mae_test, mae_train)"
   ]
  },
  {
   "cell_type": "code",
   "execution_count": 29,
   "id": "d0eae17b-778b-4431-b5af-a4414ab8d6d5",
   "metadata": {},
   "outputs": [],
   "source": [
    "residuals= Y_train - Y_pred_train"
   ]
  },
  {
   "cell_type": "code",
   "execution_count": 30,
   "id": "9e6f1377-d66e-4e43-9009-0fe71b24001f",
   "metadata": {},
   "outputs": [
    {
     "data": {
      "text/plain": [
       "0.25846937846283746"
      ]
     },
     "execution_count": 30,
     "metadata": {},
     "output_type": "execute_result"
    }
   ],
   "source": [
    "mse=np.mean(residuals**2)\n",
    "RMSE = np.sqrt(mse)\n",
    "RMSE"
   ]
  },
  {
   "cell_type": "code",
   "execution_count": 31,
   "id": "e111ceb1-6157-4779-8ae1-caa09c8fcfec",
   "metadata": {},
   "outputs": [
    {
     "data": {
      "text/plain": [
       "0.25505804598613535"
      ]
     },
     "execution_count": 31,
     "metadata": {},
     "output_type": "execute_result"
    }
   ],
   "source": [
    "n=len(Y_train)\n",
    "p=X.shape[1]\n",
    "SEE=np.sqrt(mse*(n-p-1)/n)\n",
    "SEE"
   ]
  },
  {
   "cell_type": "code",
   "execution_count": 32,
   "id": "950c7b51-8a84-4bed-91b1-2699d109356f",
   "metadata": {},
   "outputs": [
    {
     "data": {
      "text/plain": [
       "0.25507693847503105"
      ]
     },
     "execution_count": 32,
     "metadata": {},
     "output_type": "execute_result"
    }
   ],
   "source": [
    "SEP = SEE * np.sqrt(1 + 1/n)\n",
    "SEP"
   ]
  },
  {
   "cell_type": "code",
   "execution_count": 33,
   "id": "a8180eaf-c226-4517-b164-cd733215b341",
   "metadata": {},
   "outputs": [
    {
     "name": "stdout",
     "output_type": "stream",
     "text": [
      "Standard error of prediction on test set: 0.66\n",
      "Standard error of estimate on training set: 0.66\n"
     ]
    }
   ],
   "source": [
    "# Calculate the residuals\n",
    "residuals_test = Y_test - Y_pred_test\n",
    "\n",
    "# Calculate the mean of the residuals for the test set\n",
    "mean_residuals_test = np.mean(residuals_test)\n",
    "\n",
    "# Calculate the standard deviation of the residuals for the test set\n",
    "std_residuals_test = np.std(residuals_test, ddof=1)\n",
    "\n",
    "# Calculate the standard error of prediction (SEP) for the test set\n",
    "SEP = std_residuals_test * np.sqrt(1 + 1/len(X_test))\n",
    "\n",
    "SEE=SEP*(1/(np.sqrt(1 + 1/(len(X_test)))))\n",
    "SEE\n",
    "# Calculate the standard error of estimate (SEE) for the training set\n",
    "print(\"Standard error of prediction on test set: {:.2f}\".format(SEP))\n",
    "print(\"Standard error of estimate on training set: {:.2f}\".format(SEE))"
   ]
  },
  {
   "cell_type": "code",
   "execution_count": 34,
   "id": "a96b2906-d152-44bb-b539-d431662b4a6d",
   "metadata": {},
   "outputs": [
    {
     "name": "stderr",
     "output_type": "stream",
     "text": [
      "IProgress not found. Please update jupyter and ipywidgets. See https://ipywidgets.readthedocs.io/en/stable/user_install.html\n"
     ]
    }
   ],
   "source": [
    "import shap\n",
    "from sklearn.preprocessing import StandardScaler\n",
    "import os\n",
    "import sys\n",
    "#import Explanation"
   ]
  },
  {
   "cell_type": "code",
   "execution_count": 35,
   "id": "e6358661-e935-42db-b0d7-0fad6dccde97",
   "metadata": {},
   "outputs": [
    {
     "name": "stdout",
     "output_type": "stream",
     "text": [
      "CPU times: user 5min 23s, sys: 556 ms, total: 5min 24s\n",
      "Wall time: 5min 23s\n"
     ]
    }
   ],
   "source": [
    "%%time\n",
    "\n",
    "explainer = shap.Explainer(model)\n",
    "shap_values = explainer(X_test)"
   ]
  },
  {
   "cell_type": "code",
   "execution_count": 36,
   "id": "c616a3b2-68a8-4afd-8724-a3e3a08eefca",
   "metadata": {},
   "outputs": [
    {
     "data": {
      "image/png": "[encoded data removed]",
      "text/plain": [
       "<Figure size 800x650 with 1 Axes>"
      ]
     },
     "metadata": {},
     "output_type": "display_data"
    }
   ],
   "source": [
    "shap.summary_plot(shap_values, X_test, plot_type=\"bar\",show=False,max_display=10,plot_size=0.5)\n",
    "\n",
    "#plot_size=(18.0, 10.0)\n",
    "plt.savefig('most effective descriptor for des approch with SLOGP.pdf',bbox_inches='tight',dpi = 1000)"
   ]
  },
  {
   "cell_type": "code",
   "execution_count": 37,
   "id": "b09d5333-45aa-43cc-af13-3b598e71632b",
   "metadata": {},
   "outputs": [
    {
     "data": {
      "image/png": "[encoded data removed]",
      "text/plain": [
       "<Figure size 800x650 with 1 Axes>"
      ]
     },
     "metadata": {},
     "output_type": "display_data"
    }
   ],
   "source": [
    "shap.plots.bar(shap_values, max_display=10,show=False)\n",
    "plt.savefig('scratcch.pdf',bbox_inches='tight',dpi = 1000)"
   ]
  },
  {
   "cell_type": "code",
   "execution_count": 38,
   "id": "c596a131-6fd4-4930-8b33-4b1d2dabee07",
   "metadata": {},
   "outputs": [
    {
     "data": {
      "image/png": "[encoded data removed]",
      "text/plain": [
       "<Figure size 800x750 with 2 Axes>"
      ]
     },
     "metadata": {},
     "output_type": "display_data"
    }
   ],
   "source": [
    "shap.summary_plot(shap_values, plot_type=\"dot\", plot_size=0.6, show=False,max_display=10)\n",
    "plt.savefig('scratcch.pdf',bbox_inches='tight',dpi = 1000)"
   ]
  },
  {
   "cell_type": "code",
   "execution_count": 39,
   "id": "66b09725-e52e-4c25-9c6c-93d9d93627cf",
   "metadata": {},
   "outputs": [
    {
     "data": {
      "image/png": "[encoded data removed]",
      "text/plain": [
       "<Figure size 500x1100 with 2 Axes>"
      ]
     },
     "metadata": {},
     "output_type": "display_data"
    }
   ],
   "source": [
    "#Vertical plot\n",
    "plt.figure(figsize=(5,11))\n",
    "\n",
    "# 2 row, 1 column, plot 1\n",
    "plt.subplot(2, 1, 1)\n",
    "plt.scatter(x=Y_train, y=Y_pred_train, c=\"#7CAE00\", alpha=1)\n",
    "\n",
    "# Add trendline\n",
    "# https://stackoverflow.com/questions/26447191/how-to-add-trendline-in-python-matplotlib-dot-scatter-graphs\n",
    "z = np.polyfit(Y_train, Y_pred_train, 1)\n",
    "p = np.poly1d(z)\n",
    "plt.plot(Y_test,p(Y_test),\"#F8766D\")\n",
    "\n",
    "\n",
    "plt.xlabel('Experimental LogS', fontsize=13)\n",
    "plt.ylabel('Predicted LogS', fontsize=13)\n",
    "\n",
    "\n",
    "# 2 row, 1 column, plot 2\n",
    "plt.subplot(2, 1, 2)\n",
    "plt.scatter(x=Y_test, y=Y_pred_test, c=\"#619CFF\", alpha=1)\n",
    "\n",
    "z = np.polyfit(Y_test, Y_pred_test, 1)\n",
    "p = np.poly1d(z)\n",
    "plt.plot(Y_test,p(Y_test),\"#F8766D\")\n",
    "\n",
    "plt.ylabel('Predicted LogS', fontsize=13)\n",
    "plt.xlabel('Experimental LogS', fontsize=13)\n",
    "\n",
    "plt.savefig('plot_vertical_logS.png')\n",
    "plt.savefig('paper logS descriptor.pdf',dpi=1200)\n",
    "plt.show()"
   ]
  },
  {
   "cell_type": "markdown",
   "id": "56260601-77fa-4fce-8e62-3a4e62de4ee2",
   "metadata": {},
   "source": [
    "## Blind test of LinearRegression and Random forest Regressor"
   ]
  },
  {
   "cell_type": "code",
   "execution_count": 40,
   "id": "1883bfc6-050c-4d6d-8c97-ec8c994e8a6e",
   "metadata": {},
   "outputs": [
    {
     "data": {
      "text/html": [
       "<div>\n",
       "<style scoped>\n",
       "    .dataframe tbody tr th:only-of-type {\n",
       "        vertical-align: middle;\n",
       "    }\n",
       "\n",
       "    .dataframe tbody tr th {\n",
       "        vertical-align: top;\n",
       "    }\n",
       "\n",
       "    .dataframe thead th {\n",
       "        text-align: right;\n",
       "    }\n",
       "</style>\n",
       "<table border=\"1\" class=\"dataframe\">\n",
       "  <thead>\n",
       "    <tr style=\"text-align: right;\">\n",
       "      <th></th>\n",
       "      <th>name</th>\n",
       "      <th>SMILES</th>\n",
       "    </tr>\n",
       "  </thead>\n",
       "  <tbody>\n",
       "    <tr>\n",
       "      <th>0</th>\n",
       "      <td>Acebutolol</td>\n",
       "      <td>CC(C)NCC(O)COC1=C(C(C)=O)C=C(NC(CCC)=O)C=C1</td>\n",
       "    </tr>\n",
       "    <tr>\n",
       "      <th>1</th>\n",
       "      <td>Amoxicillin</td>\n",
       "      <td>O=C(O)[C@H]1C(C)(C)S[C@@H](N21)[C@H](NC([C@@H]...</td>\n",
       "    </tr>\n",
       "    <tr>\n",
       "      <th>2</th>\n",
       "      <td>Bendroflumethiazide</td>\n",
       "      <td>O=S1(C2=CC(S(N)(=O)=O)=C(C(F)(F)F)C=C2NC(CC3=C...</td>\n",
       "    </tr>\n",
       "    <tr>\n",
       "      <th>3</th>\n",
       "      <td>Benzocaine</td>\n",
       "      <td>NC1=CC=C(C(OCC)=O)C=C1</td>\n",
       "    </tr>\n",
       "    <tr>\n",
       "      <th>4</th>\n",
       "      <td>Benzthiazide</td>\n",
       "      <td>O=S1(C2=CC(S(N)(=O)=O)=C(Cl)C=C2N=C(CSCC3=CC=C...</td>\n",
       "    </tr>\n",
       "    <tr>\n",
       "      <th>5</th>\n",
       "      <td>2-chloromandelic_acid</td>\n",
       "      <td>OC(C(O)C1=CC=CC=C1Cl)=O</td>\n",
       "    </tr>\n",
       "    <tr>\n",
       "      <th>6</th>\n",
       "      <td>Clozapine</td>\n",
       "      <td>ClC(C=C1)=CC2=C1NC(C=CC=C3)=C3C(N4CCN(C)CC4)=N2</td>\n",
       "    </tr>\n",
       "    <tr>\n",
       "      <th>7</th>\n",
       "      <td>Dibucaine</td>\n",
       "      <td>CCN(CC)CCNC(C1=C(C=CC=C2)C2=NC(OCCCC)=C1)=O</td>\n",
       "    </tr>\n",
       "    <tr>\n",
       "      <th>8</th>\n",
       "      <td>Diethylstilbestrol</td>\n",
       "      <td>CC/C(C1=CC=C(O)C=C1)=C(C2=CC=C(O)C=C2)/CC</td>\n",
       "    </tr>\n",
       "    <tr>\n",
       "      <th>9</th>\n",
       "      <td>Diflunisal</td>\n",
       "      <td>FC(C=C1F)=CC=C1C2=CC=C(O)C(C(O)=O)=C2</td>\n",
       "    </tr>\n",
       "    <tr>\n",
       "      <th>10</th>\n",
       "      <td>Dipyridamole</td>\n",
       "      <td>OCCN(CCO)C1=NC2=C(N3CCCCC3)N=C(N(CCO)CCO)N=C2C...</td>\n",
       "    </tr>\n",
       "    <tr>\n",
       "      <th>11</th>\n",
       "      <td>Ephedrine</td>\n",
       "      <td>CN[C@H](C)[C@@H](O)C1=CC=CC=C1</td>\n",
       "    </tr>\n",
       "    <tr>\n",
       "      <th>12</th>\n",
       "      <td>Folic_Acid</td>\n",
       "      <td>OC([C@H](CCC(O)=O)NC(C(C=C1)=CC=C1NCC2=NC3=C(O...</td>\n",
       "    </tr>\n",
       "    <tr>\n",
       "      <th>13</th>\n",
       "      <td>Furosemide</td>\n",
       "      <td>OC(C1=CC(S(N)(=O)=O)=C(Cl)C=C1NCC2=CC=CO2)=O</td>\n",
       "    </tr>\n",
       "    <tr>\n",
       "      <th>14</th>\n",
       "      <td>Hydrochlorothiazide</td>\n",
       "      <td>O=S1(C2=CC(S(N)(=O)=O)=C(Cl)C=C2NCN1)=O</td>\n",
       "    </tr>\n",
       "    <tr>\n",
       "      <th>15</th>\n",
       "      <td>Imipramine</td>\n",
       "      <td>CN(C)CCCN1C2=C(C=CC=C2)CCC3=C1C=CC=C3</td>\n",
       "    </tr>\n",
       "    <tr>\n",
       "      <th>16</th>\n",
       "      <td>Indomethacin</td>\n",
       "      <td>COC1=CC=C2C(C(CC(O)=O)=C(C)N2C(C3=CC=C(Cl)C=C3...</td>\n",
       "    </tr>\n",
       "    <tr>\n",
       "      <th>17</th>\n",
       "      <td>Ketoprofen</td>\n",
       "      <td>O=C(C1=CC=CC=C1)C2=CC=CC(C(C(O)=O)C)=C2</td>\n",
       "    </tr>\n",
       "    <tr>\n",
       "      <th>18</th>\n",
       "      <td>Lidocaine</td>\n",
       "      <td>CCN(CC)CC(NC1=C(C)C=CC=C1C)=O</td>\n",
       "    </tr>\n",
       "    <tr>\n",
       "      <th>19</th>\n",
       "      <td>Marbofloxacin</td>\n",
       "      <td>OC(C1=CN(N(C)CO2)C3=C2C(N4CCN(C)CC4)=C(F)C=C3C...</td>\n",
       "    </tr>\n",
       "    <tr>\n",
       "      <th>20</th>\n",
       "      <td>Meclofenamic_acid</td>\n",
       "      <td>ClC(C=CC(C)=C1Cl)=C1NC2=CC=CC=C2C(O)=O</td>\n",
       "    </tr>\n",
       "    <tr>\n",
       "      <th>21</th>\n",
       "      <td>Naphthoic_acid</td>\n",
       "      <td>OC(C1=CC2=CC=CC=C2C=C1)=O</td>\n",
       "    </tr>\n",
       "    <tr>\n",
       "      <th>22</th>\n",
       "      <td>Probenecid</td>\n",
       "      <td>CN[C@@H](C)[C@H](O)C1=CC=CC=C1</td>\n",
       "    </tr>\n",
       "    <tr>\n",
       "      <th>23</th>\n",
       "      <td>Pseudoephedrine</td>\n",
       "      <td>OC(C1=CC=C(S(N(CCC)CCC)(=O)=O)C=C1)=O</td>\n",
       "    </tr>\n",
       "    <tr>\n",
       "      <th>24</th>\n",
       "      <td>Pyrimethamine</td>\n",
       "      <td>ClC(C=C1)=CC=C1C2=C(CC)N=C(N)N=C2N</td>\n",
       "    </tr>\n",
       "    <tr>\n",
       "      <th>25</th>\n",
       "      <td>Salicylic_acid</td>\n",
       "      <td>OC(C1=CC=CC=C1O)=O</td>\n",
       "    </tr>\n",
       "    <tr>\n",
       "      <th>26</th>\n",
       "      <td>Sulfamerazine</td>\n",
       "      <td>NC1=CC=C(S(NC2=NC(C)=CC=N2)(=O)=O)C=C1</td>\n",
       "    </tr>\n",
       "    <tr>\n",
       "      <th>27</th>\n",
       "      <td>Sulfamethizole</td>\n",
       "      <td>NC1=CC=C(S(NC2=NN=C(C)S2)(=O)=O)C=C1</td>\n",
       "    </tr>\n",
       "    <tr>\n",
       "      <th>28</th>\n",
       "      <td>Terfenadine</td>\n",
       "      <td>OC(C1=CC=CC=C1)(C2=CC=CC=C2)C3CCN(CCCC(O)C4=CC...</td>\n",
       "    </tr>\n",
       "    <tr>\n",
       "      <th>29</th>\n",
       "      <td>Thiabendazole</td>\n",
       "      <td>C12=CC=CC=C1NC(C3=CSC=N3)=N2</td>\n",
       "    </tr>\n",
       "    <tr>\n",
       "      <th>30</th>\n",
       "      <td>Tolbutamide</td>\n",
       "      <td>CC1=CC=C(S(NC(NCCCC)=O)(=O)=O)C=C1</td>\n",
       "    </tr>\n",
       "    <tr>\n",
       "      <th>31</th>\n",
       "      <td>Trazodone</td>\n",
       "      <td>ClC1=CC=CC(N2CCN(CCCN3C(N(C=CC=C4)C4=N3)=O)CC2...</td>\n",
       "    </tr>\n",
       "  </tbody>\n",
       "</table>\n",
       "</div>"
      ],
      "text/plain": [
       "                     name                                             SMILES\n",
       "0              Acebutolol        CC(C)NCC(O)COC1=C(C(C)=O)C=C(NC(CCC)=O)C=C1\n",
       "1             Amoxicillin  O=C(O)[C@H]1C(C)(C)S[C@@H](N21)[C@H](NC([C@@H]...\n",
       "2     Bendroflumethiazide  O=S1(C2=CC(S(N)(=O)=O)=C(C(F)(F)F)C=C2NC(CC3=C...\n",
       "3              Benzocaine                             NC1=CC=C(C(OCC)=O)C=C1\n",
       "4            Benzthiazide  O=S1(C2=CC(S(N)(=O)=O)=C(Cl)C=C2N=C(CSCC3=CC=C...\n",
       "5   2-chloromandelic_acid                            OC(C(O)C1=CC=CC=C1Cl)=O\n",
       "6               Clozapine    ClC(C=C1)=CC2=C1NC(C=CC=C3)=C3C(N4CCN(C)CC4)=N2\n",
       "7               Dibucaine        CCN(CC)CCNC(C1=C(C=CC=C2)C2=NC(OCCCC)=C1)=O\n",
       "8      Diethylstilbestrol          CC/C(C1=CC=C(O)C=C1)=C(C2=CC=C(O)C=C2)/CC\n",
       "9              Diflunisal              FC(C=C1F)=CC=C1C2=CC=C(O)C(C(O)=O)=C2\n",
       "10           Dipyridamole  OCCN(CCO)C1=NC2=C(N3CCCCC3)N=C(N(CCO)CCO)N=C2C...\n",
       "11              Ephedrine                     CN[C@H](C)[C@@H](O)C1=CC=CC=C1\n",
       "12             Folic_Acid  OC([C@H](CCC(O)=O)NC(C(C=C1)=CC=C1NCC2=NC3=C(O...\n",
       "13             Furosemide       OC(C1=CC(S(N)(=O)=O)=C(Cl)C=C1NCC2=CC=CO2)=O\n",
       "14    Hydrochlorothiazide            O=S1(C2=CC(S(N)(=O)=O)=C(Cl)C=C2NCN1)=O\n",
       "15             Imipramine              CN(C)CCCN1C2=C(C=CC=C2)CCC3=C1C=CC=C3\n",
       "16           Indomethacin  COC1=CC=C2C(C(CC(O)=O)=C(C)N2C(C3=CC=C(Cl)C=C3...\n",
       "17             Ketoprofen            O=C(C1=CC=CC=C1)C2=CC=CC(C(C(O)=O)C)=C2\n",
       "18              Lidocaine                      CCN(CC)CC(NC1=C(C)C=CC=C1C)=O\n",
       "19          Marbofloxacin  OC(C1=CN(N(C)CO2)C3=C2C(N4CCN(C)CC4)=C(F)C=C3C...\n",
       "20      Meclofenamic_acid             ClC(C=CC(C)=C1Cl)=C1NC2=CC=CC=C2C(O)=O\n",
       "21         Naphthoic_acid                          OC(C1=CC2=CC=CC=C2C=C1)=O\n",
       "22             Probenecid                     CN[C@@H](C)[C@H](O)C1=CC=CC=C1\n",
       "23        Pseudoephedrine              OC(C1=CC=C(S(N(CCC)CCC)(=O)=O)C=C1)=O\n",
       "24          Pyrimethamine                 ClC(C=C1)=CC=C1C2=C(CC)N=C(N)N=C2N\n",
       "25         Salicylic_acid                                 OC(C1=CC=CC=C1O)=O\n",
       "26          Sulfamerazine             NC1=CC=C(S(NC2=NC(C)=CC=N2)(=O)=O)C=C1\n",
       "27         Sulfamethizole               NC1=CC=C(S(NC2=NN=C(C)S2)(=O)=O)C=C1\n",
       "28            Terfenadine  OC(C1=CC=CC=C1)(C2=CC=CC=C2)C3CCN(CCCC(O)C4=CC...\n",
       "29          Thiabendazole                       C12=CC=CC=C1NC(C3=CSC=N3)=N2\n",
       "30            Tolbutamide                 CC1=CC=C(S(NC(NCCCC)=O)(=O)=O)C=C1\n",
       "31              Trazodone  ClC1=CC=CC(N2CCN(CCCN3C(N(C=CC=C4)C4=N3)=O)CC2..."
      ]
     },
     "execution_count": 40,
     "metadata": {},
     "output_type": "execute_result"
    }
   ],
   "source": [
    "testdata_1 = pd.read_csv('water_solubility_dataset/testexperiment2upload2raw.csv')\n",
    "testdata_1"
   ]
  },
  {
   "cell_type": "code",
   "execution_count": 41,
   "id": "15b4bebd-2bb4-4c42-abb5-2f79b3a4d42d",
   "metadata": {},
   "outputs": [
    {
     "data": {
      "text/html": [
       "<div>\n",
       "<style scoped>\n",
       "    .dataframe tbody tr th:only-of-type {\n",
       "        vertical-align: middle;\n",
       "    }\n",
       "\n",
       "    .dataframe tbody tr th {\n",
       "        vertical-align: top;\n",
       "    }\n",
       "\n",
       "    .dataframe thead th {\n",
       "        text-align: right;\n",
       "    }\n",
       "</style>\n",
       "<table border=\"1\" class=\"dataframe\">\n",
       "  <thead>\n",
       "    <tr style=\"text-align: right;\">\n",
       "      <th></th>\n",
       "      <th>Substance</th>\n",
       "      <th>SMILES</th>\n",
       "    </tr>\n",
       "  </thead>\n",
       "  <tbody>\n",
       "    <tr>\n",
       "      <th>0</th>\n",
       "      <td>hexobarbital</td>\n",
       "      <td>CN1C(=O)NC(=O)C(C)(C1=O)C1=CCCCC1</td>\n",
       "    </tr>\n",
       "    <tr>\n",
       "      <th>1</th>\n",
       "      <td>nalidixic_acid</td>\n",
       "      <td>CCn1cc(c(=O)c2ccc(nc12)C)C(=O)O</td>\n",
       "    </tr>\n",
       "    <tr>\n",
       "      <th>2</th>\n",
       "      <td>phenantroline</td>\n",
       "      <td>c12c(ccc3cccnc13)cccn2</td>\n",
       "    </tr>\n",
       "    <tr>\n",
       "      <th>3</th>\n",
       "      <td>phenobarbital</td>\n",
       "      <td>C1(NC(C(c2ccccc2)(C(=O)N1)CC)=O)=O</td>\n",
       "    </tr>\n",
       "    <tr>\n",
       "      <th>4</th>\n",
       "      <td>sulfamethazine</td>\n",
       "      <td>S(=O)(=O)(Nc1nc(C)cc(n1)C)c1ccc(N)cc1</td>\n",
       "    </tr>\n",
       "    <tr>\n",
       "      <th>5</th>\n",
       "      <td>bromogramine</td>\n",
       "      <td>Brc1cc2c(CN(C)C)c[nH]c2cc1</td>\n",
       "    </tr>\n",
       "    <tr>\n",
       "      <th>6</th>\n",
       "      <td>phenazopyridine</td>\n",
       "      <td>c1ccc(cc1)\\N=N\\c1c(nc(cc1)N)N</td>\n",
       "    </tr>\n",
       "    <tr>\n",
       "      <th>7</th>\n",
       "      <td>amantadine</td>\n",
       "      <td>C1C2CC3CC(CC1C3)(N)C2</td>\n",
       "    </tr>\n",
       "    <tr>\n",
       "      <th>8</th>\n",
       "      <td>benzylimidazole</td>\n",
       "      <td>n1(Cc2ccccc2)cncc1</td>\n",
       "    </tr>\n",
       "    <tr>\n",
       "      <th>9</th>\n",
       "      <td>chlorpropamide</td>\n",
       "      <td>Clc1ccc(S(=O)(NC(=O)NCCC)=O)cc1</td>\n",
       "    </tr>\n",
       "    <tr>\n",
       "      <th>10</th>\n",
       "      <td>cimetidine</td>\n",
       "      <td>Cc1c(nc[nH]1)CSCCN\\C(=N\\C)NC#N</td>\n",
       "    </tr>\n",
       "    <tr>\n",
       "      <th>11</th>\n",
       "      <td>thymol</td>\n",
       "      <td>c1(cc(ccc1C(C)C)C)O</td>\n",
       "    </tr>\n",
       "    <tr>\n",
       "      <th>12</th>\n",
       "      <td>tryptamine</td>\n",
       "      <td>NCCc1c[nH]c2ccccc12</td>\n",
       "    </tr>\n",
       "    <tr>\n",
       "      <th>13</th>\n",
       "      <td>azathioprine</td>\n",
       "      <td>S(c1n(cnc1N(=O)=O)C)c1ncnc2nc[nH]c12</td>\n",
       "    </tr>\n",
       "    <tr>\n",
       "      <th>14</th>\n",
       "      <td>sulfathiazole</td>\n",
       "      <td>Nc1ccc(cc1)S(=O)(Nc1nccs1)=O</td>\n",
       "    </tr>\n",
       "    <tr>\n",
       "      <th>15</th>\n",
       "      <td>acetaminophen</td>\n",
       "      <td>O=C(Nc1ccc(cc1)O)C</td>\n",
       "    </tr>\n",
       "    <tr>\n",
       "      <th>16</th>\n",
       "      <td>diazoxide</td>\n",
       "      <td>Clc1cc2S(=O)(=O)N=C(Nc2cc1)C</td>\n",
       "    </tr>\n",
       "    <tr>\n",
       "      <th>17</th>\n",
       "      <td>famotidine</td>\n",
       "      <td>N\\C(CCSCc1csc(\\N=C(\\N)N)n1)=N\\S(=O)(N)=O</td>\n",
       "    </tr>\n",
       "    <tr>\n",
       "      <th>18</th>\n",
       "      <td>hydroflumethiazide</td>\n",
       "      <td>S1(=O)(=O)NCNc2c1cc(S(=O)(N)=O)c(c2)C(F)(F)F</td>\n",
       "    </tr>\n",
       "    <tr>\n",
       "      <th>19</th>\n",
       "      <td>nitrofurantoin</td>\n",
       "      <td>O=C1NC(CN1\\N=C\\c1ccc(N(=O)=O)o1)=O</td>\n",
       "    </tr>\n",
       "    <tr>\n",
       "      <th>20</th>\n",
       "      <td>phthalic_acid_form_I</td>\n",
       "      <td>C(c1c(C(=O)O)cccc1)(=O)O</td>\n",
       "    </tr>\n",
       "    <tr>\n",
       "      <th>21</th>\n",
       "      <td>sulfacetamide</td>\n",
       "      <td>C(=O)(NS(=O)(c1ccc(cc1)N)=O)C</td>\n",
       "    </tr>\n",
       "    <tr>\n",
       "      <th>22</th>\n",
       "      <td>trichloromethiazide_form_I</td>\n",
       "      <td>NS(=O)(=O)c1cc2c(NC(NS2(=O)=O)C(Cl)Cl)cc1Cl</td>\n",
       "    </tr>\n",
       "    <tr>\n",
       "      <th>23</th>\n",
       "      <td>2_amino_5_bromobenzoic_acid</td>\n",
       "      <td>Brc1cc(C(O)=O)c(N)cc1</td>\n",
       "    </tr>\n",
       "    <tr>\n",
       "      <th>24</th>\n",
       "      <td>5_bromo_2_4_dihydroxybenzoic_acid</td>\n",
       "      <td>Oc1c(Br)cc(C(O)=O)c(O)c1</td>\n",
       "    </tr>\n",
       "    <tr>\n",
       "      <th>25</th>\n",
       "      <td>chlorzoxazone</td>\n",
       "      <td>c1cc2c(cc1Cl)[nH]c(=O)o2</td>\n",
       "    </tr>\n",
       "    <tr>\n",
       "      <th>26</th>\n",
       "      <td>5_hydroxybenzoic_acid</td>\n",
       "      <td>C(c1ccc(cc1)O)(=O)O</td>\n",
       "    </tr>\n",
       "    <tr>\n",
       "      <th>27</th>\n",
       "      <td>4_iodophenol</td>\n",
       "      <td>c1cc(ccc1O)I</td>\n",
       "    </tr>\n",
       "    <tr>\n",
       "      <th>28</th>\n",
       "      <td>metronidazole</td>\n",
       "      <td>OCCn1c(ncc1N(=O)=O)C</td>\n",
       "    </tr>\n",
       "    <tr>\n",
       "      <th>29</th>\n",
       "      <td>guanine</td>\n",
       "      <td>[nH]1cnc2nc(N)[nH]c(=O)c12</td>\n",
       "    </tr>\n",
       "    <tr>\n",
       "      <th>30</th>\n",
       "      <td>acetazolamide</td>\n",
       "      <td>S(=O)(=O)(N)c1sc(NC(=O)C)nn1</td>\n",
       "    </tr>\n",
       "    <tr>\n",
       "      <th>31</th>\n",
       "      <td>1_naphthol</td>\n",
       "      <td>c1ccc2c(cccc2O)c1</td>\n",
       "    </tr>\n",
       "  </tbody>\n",
       "</table>\n",
       "</div>"
      ],
      "text/plain": [
       "                             Substance  \\\n",
       "0                         hexobarbital   \n",
       "1                       nalidixic_acid   \n",
       "2                        phenantroline   \n",
       "3                        phenobarbital   \n",
       "4                       sulfamethazine   \n",
       "5                         bromogramine   \n",
       "6                      phenazopyridine   \n",
       "7                           amantadine   \n",
       "8                      benzylimidazole   \n",
       "9                       chlorpropamide   \n",
       "10                          cimetidine   \n",
       "11                              thymol   \n",
       "12                          tryptamine   \n",
       "13                        azathioprine   \n",
       "14                       sulfathiazole   \n",
       "15                       acetaminophen   \n",
       "16                           diazoxide   \n",
       "17                          famotidine   \n",
       "18                  hydroflumethiazide   \n",
       "19                      nitrofurantoin   \n",
       "20                phthalic_acid_form_I   \n",
       "21                       sulfacetamide   \n",
       "22          trichloromethiazide_form_I   \n",
       "23         2_amino_5_bromobenzoic_acid   \n",
       "24   5_bromo_2_4_dihydroxybenzoic_acid   \n",
       "25                       chlorzoxazone   \n",
       "26               5_hydroxybenzoic_acid   \n",
       "27                        4_iodophenol   \n",
       "28                       metronidazole   \n",
       "29                             guanine   \n",
       "30                       acetazolamide   \n",
       "31                          1_naphthol   \n",
       "\n",
       "                                          SMILES  \n",
       "0              CN1C(=O)NC(=O)C(C)(C1=O)C1=CCCCC1  \n",
       "1                CCn1cc(c(=O)c2ccc(nc12)C)C(=O)O  \n",
       "2                         c12c(ccc3cccnc13)cccn2  \n",
       "3             C1(NC(C(c2ccccc2)(C(=O)N1)CC)=O)=O  \n",
       "4          S(=O)(=O)(Nc1nc(C)cc(n1)C)c1ccc(N)cc1  \n",
       "5                     Brc1cc2c(CN(C)C)c[nH]c2cc1  \n",
       "6                  c1ccc(cc1)\\N=N\\c1c(nc(cc1)N)N  \n",
       "7                          C1C2CC3CC(CC1C3)(N)C2  \n",
       "8                             n1(Cc2ccccc2)cncc1  \n",
       "9                Clc1ccc(S(=O)(NC(=O)NCCC)=O)cc1  \n",
       "10                Cc1c(nc[nH]1)CSCCN\\C(=N\\C)NC#N  \n",
       "11                           c1(cc(ccc1C(C)C)C)O  \n",
       "12                           NCCc1c[nH]c2ccccc12  \n",
       "13          S(c1n(cnc1N(=O)=O)C)c1ncnc2nc[nH]c12  \n",
       "14                  Nc1ccc(cc1)S(=O)(Nc1nccs1)=O  \n",
       "15                            O=C(Nc1ccc(cc1)O)C  \n",
       "16                  Clc1cc2S(=O)(=O)N=C(Nc2cc1)C  \n",
       "17      N\\C(CCSCc1csc(\\N=C(\\N)N)n1)=N\\S(=O)(N)=O  \n",
       "18  S1(=O)(=O)NCNc2c1cc(S(=O)(N)=O)c(c2)C(F)(F)F  \n",
       "19            O=C1NC(CN1\\N=C\\c1ccc(N(=O)=O)o1)=O  \n",
       "20                      C(c1c(C(=O)O)cccc1)(=O)O  \n",
       "21                 C(=O)(NS(=O)(c1ccc(cc1)N)=O)C  \n",
       "22   NS(=O)(=O)c1cc2c(NC(NS2(=O)=O)C(Cl)Cl)cc1Cl  \n",
       "23                         Brc1cc(C(O)=O)c(N)cc1  \n",
       "24                      Oc1c(Br)cc(C(O)=O)c(O)c1  \n",
       "25                      c1cc2c(cc1Cl)[nH]c(=O)o2  \n",
       "26                           C(c1ccc(cc1)O)(=O)O  \n",
       "27                                  c1cc(ccc1O)I  \n",
       "28                          OCCn1c(ncc1N(=O)=O)C  \n",
       "29                    [nH]1cnc2nc(N)[nH]c(=O)c12  \n",
       "30                  S(=O)(=O)(N)c1sc(NC(=O)C)nn1  \n",
       "31                             c1ccc2c(cccc2O)c1  "
      ]
     },
     "execution_count": 41,
     "metadata": {},
     "output_type": "execute_result"
    }
   ],
   "source": [
    "testdata_2 = pd.read_csv('water_solubility_dataset/testexperiment2upload3raw.csv')\n",
    "testdata_2"
   ]
  },
  {
   "cell_type": "code",
   "execution_count": null,
   "id": "6bb5d5f6-35e9-42ff-98a2-92b4a7247611",
   "metadata": {},
   "outputs": [
    {
     "name": "stderr",
     "output_type": "stream",
     "text": [
      "  6%|█████▎                                                                              | 2/32 [00:00<00:09,  3.14it/s]"
     ]
    }
   ],
   "source": [
    "def All_Mordred_descriptors(data):\n",
    "    calc = Calculator(descriptors, ignore_3D=True)\n",
    "    mols = [Chem.MolFromSmiles(smi) for smi in data]\n",
    "    \n",
    "    # pandas df\n",
    "    df = calc.pandas(mols)\n",
    "    return df\n",
    "\n",
    "mordred_descriptors1 = All_Mordred_descriptors(testdata_1['SMILES'])\n",
    "mordred_descriptors2 = All_Mordred_descriptors(testdata_2['SMILES'])\n",
    "\n",
    "Xnew_1=mordred_descriptors1\n",
    "\n",
    "print(Xnew_1.shape)\n",
    "\n",
    "Xnew_2=mordred_descriptors2\n",
    "\n",
    "print(Xnew_2.shape)"
   ]
  },
  {
   "cell_type": "code",
   "execution_count": null,
   "id": "4bc62d4f-f1c5-4eea-a5e9-7359c1e0f819",
   "metadata": {},
   "outputs": [],
   "source": [
    "ynew_LR_1 = reg.predict(Xnew_1)\n",
    "#print(\"X=%s, Predicted=%s\" % (Xnew[0], ynew[0]))\n",
    "print(ynew_LR_1)\n",
    "\n",
    "ynew_RF_1 = reg.predict(Xnew_1)\n",
    "#print(\"X=%s, Predicted=%s\" % (Xnew[0], ynew[0]))\n",
    "print(ynew_RF_1)\n",
    "\n",
    "ynew_LR_2 = reg.predict(Xnew_2)\n",
    "#print(\"X=%s, Predicted=%s\" % (Xnew[0], ynew[0]))\n",
    "print(ynew_LR_1)\n",
    "\n",
    "ynew_RF_2 = reg.predict(Xnew_2)\n",
    "#print(\"X=%s, Predicted=%s\" % (Xnew[0], ynew[0]))\n",
    "print(ynew_RF_2)"
   ]
  },
  {
   "cell_type": "code",
   "execution_count": null,
   "id": "68679082-5790-41c3-be5d-ed548a9ea504",
   "metadata": {},
   "outputs": [],
   "source": [
    "# from numpy import asarray\n",
    "# from numpy import savetxt\n",
    "# # define data\n",
    "# data = asarray(y2new)\n",
    "# # save to csv file\n",
    "# savetxt('dataggg.csv', data, delimiter=',')"
   ]
  }
 ],
 "metadata": {
  "kernelspec": {
   "display_name": "Python 3 (ipykernel)",
   "language": "python",
   "name": "python3"
  },
  "language_info": {
   "codemirror_mode": {
    "name": "ipython",
    "version": 3
   },
   "file_extension": ".py",
   "mimetype": "text/x-python",
   "name": "python",
   "nbconvert_exporter": "python",
   "pygments_lexer": "ipython3",
   "version": "3.10.14"
  }
 },
 "nbformat": 4,
 "nbformat_minor": 5
}
